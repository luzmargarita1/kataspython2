{
 "cells": [
  {
   "cell_type": "markdown",
   "metadata": {},
   "source": [
    "# Kata 1 fecha de hoy"
   ]
  },
  {
   "cell_type": "code",
   "execution_count": 23,
   "metadata": {},
   "outputs": [
    {
     "name": "stdout",
     "output_type": "stream",
     "text": [
      "Today's date is: 2022-02-15 16:32:49.222823\n"
     ]
    }
   ],
   "source": [
    "from datetime import date\n",
    "from datetime import datetime\n",
    "t= date.today()\n",
    "hoy = datetime.now()\n",
    "\n",
    "#print(t)\n",
    "#print(hoy)\n",
    "\n",
    "print(\"Today's date is: \" + str(datetime.now()))\n"
   ]
  },
  {
   "cell_type": "markdown",
   "metadata": {},
   "source": [
    "el primer print solo imprime la fecha exacta en la que estamos, mientras que el segdo print usa la funcion now() es mas exacto y muestra la hora y segundos exactos.\n",
    "STR: es una clase que nos permite imprimir datos de tipo string"
   ]
  },
  {
   "cell_type": "markdown",
   "metadata": {},
   "source": [
    "## Conversión entre parsecs y años luz"
   ]
  },
  {
   "cell_type": "code",
   "execution_count": 22,
   "metadata": {},
   "outputs": [
    {
     "name": "stdout",
     "output_type": "stream",
     "text": [
      "15 parsec, is 48.924 lightyears\n"
     ]
    }
   ],
   "source": [
    "parsec = 15\n",
    "\n",
    "lightyears = 3.2616 * parsec\n",
    "#print(str(parsec) + \" parsec, is \" + str(lightyears * parsec) + \" lightyears\")\n",
    "print(str(parsec) + \" parsec, is \" + str(lightyears) + \" lightyears\")"
   ]
  },
  {
   "cell_type": "markdown",
   "metadata": {},
   "source": [
    "Es posible hacer operaciones dentro de la clase str, sin embargo, es mejor hacer operaciones fuera de las funciones.\n",
    "La variable parsec puede cambiar, por lo tanto, en la fórmula de conversión lo único que no cambia es el año luz \n",
    "Los comentarios en python se coloca un # al incio de cada linea de codigo."
   ]
  }
 ],
 "metadata": {
  "interpreter": {
   "hash": "32662e2c833eb25046ca7c8c1e58b39e75819365e9a14a88de9cc990b17dacca"
  },
  "kernelspec": {
   "display_name": "Python 3.10.2 64-bit",
   "language": "python",
   "name": "python3"
  },
  "language_info": {
   "codemirror_mode": {
    "name": "ipython",
    "version": 3
   },
   "file_extension": ".py",
   "mimetype": "text/x-python",
   "name": "python",
   "nbconvert_exporter": "python",
   "pygments_lexer": "ipython3",
   "version": "3.10.2"
  },
  "orig_nbformat": 4
 },
 "nbformat": 4,
 "nbformat_minor": 2
}

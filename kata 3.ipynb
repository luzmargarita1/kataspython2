{
 "cells": [
  {
   "cell_type": "markdown",
   "metadata": {},
   "source": [
    "## Operadores Booleanos \"Ejercicio 1\""
   ]
  },
  {
   "cell_type": "code",
   "execution_count": 10,
   "metadata": {},
   "outputs": [
    {
     "name": "stdout",
     "output_type": "stream",
     "text": [
      "No estamos a salvo, debes cambiar tu ruta\n"
     ]
    }
   ],
   "source": [
    "asteroide = 25.1\n",
    "\n",
    "if asteroide > 25:\n",
    "      print(\"No estamos a salvo, debes cambiar tu ruta\")\n",
    "else:\n",
    "      print(\"sigue en la misma ruta\")"
   ]
  },
  {
   "cell_type": "markdown",
   "metadata": {},
   "source": [
    "## Ejercicio 2"
   ]
  },
  {
   "cell_type": "code",
   "execution_count": 18,
   "metadata": {},
   "outputs": [
    {
     "name": "stdout",
     "output_type": "stream",
     "text": [
      "No ha llegado nada, no hay suerte :(\n"
     ]
    }
   ],
   "source": [
    "asteroide = 19.9\n",
    "\n",
    "if asteroide == 20:\n",
    "    print(\"Un asteroide ha entrado a la tierra!\")\n",
    "\n",
    "elif asteroide >= 20:\n",
    "    print(\"Un asteroide ha entrado a la tierra, ¡es hora de buscarlo !\")\n",
    "else:\n",
    "    print(\"No ha llegado nada, no hay suerte :(\")\n"
   ]
  },
  {
   "cell_type": "markdown",
   "metadata": {},
   "source": [
    "## Ejercicio 3 operadores \"and \" \"or\""
   ]
  },
  {
   "cell_type": "code",
   "execution_count": 70,
   "metadata": {},
   "outputs": [
    {
     "name": "stdout",
     "output_type": "stream",
     "text": [
      "El tamaño del asteroide no es un peligro\n"
     ]
    }
   ],
   "source": [
    "asteroide_vel = 21\n",
    "asteroide_dime= 19\n",
    "\n",
    "if asteroide_vel > 25 and asteroide_dime > 25 :\n",
    "    print(\"La tierra está en peligro\")\n",
    "elif asteroide_dime < 25: \n",
    "    print(\"El tamaño del asteroide no es un peligro\")\n",
    "elif asteroide_vel >= 20:\n",
    "    print(\"Hay un rayo de luz, busca un asteroide en la tierra\")\n",
    "else: \n",
    "    print(\"No hay nada de que preocuparse\")\n"
   ]
  },
  {
   "cell_type": "markdown",
   "metadata": {},
   "source": [
    "La velocidad del asteroide varía en función de lo cerca que esté del sol, y cualquier velocidad superior a 25 kilómetros por segundo (km/s) merece una advertencia.\n",
    "\n",
    "Si un asteroide entra en la atmósfera de la Tierra a una velocidad mayor o igual a 20 km/s, a veces produce un rayo de luz que se puede ver desde la Tierra.\n",
    "\n",
    "Lógica \n",
    "velocidad mayor a 25 es igual a una alerta\n",
    "\n",
    "si tamaño mayor a 25 alerta\n",
    "\n",
    "si velocidad mayor o igual a 20 luz brillante \n",
    "\n",
    "si tamaño menor a 25 = no hay peligro\n"
   ]
  },
  {
   "cell_type": "markdown",
   "metadata": {},
   "source": [
    "elif : funciona como otra sentencia if, a diferencia de else, oueden haber mas opciones por lo tanto, se puede crear un \"menú\" con diferentes opciones.\n",
    "Else solo es la otra condicióin en caso de que la sentencia if no se cumpla.\n",
    "NOTA: en python no siempre hay errores por identación, sin embargo, siempre debe de respetarse ya que el codigo debe identificar la sentencia o la siguiente linea de codigo que debe cumplirse en caso de qie la otra no funcione.\n"
   ]
  }
 ],
 "metadata": {
  "interpreter": {
   "hash": "32662e2c833eb25046ca7c8c1e58b39e75819365e9a14a88de9cc990b17dacca"
  },
  "kernelspec": {
   "display_name": "Python 3.10.2 64-bit",
   "language": "python",
   "name": "python3"
  },
  "language_info": {
   "codemirror_mode": {
    "name": "ipython",
    "version": 3
   },
   "file_extension": ".py",
   "mimetype": "text/x-python",
   "name": "python",
   "nbconvert_exporter": "python",
   "pygments_lexer": "ipython3",
   "version": "3.10.2"
  },
  "orig_nbformat": 4
 },
 "nbformat": 4,
 "nbformat_minor": 2
}

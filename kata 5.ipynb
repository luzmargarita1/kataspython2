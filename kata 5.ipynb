{
 "cells": [
  {
   "cell_type": "markdown",
   "metadata": {},
   "source": [
    "## Kata 5 operaciones aritmeticas\n"
   ]
  },
  {
   "cell_type": "code",
   "execution_count": null,
   "metadata": {},
   "outputs": [
    {
     "name": "stdout",
     "output_type": "stream",
     "text": [
      "628949330\n",
      "628949330\n"
     ]
    }
   ],
   "source": [
    "tierra = 149597870  \n",
    "jupiter =778547200\n",
    "\n",
    "kilometros = jupiter - tierra\n",
    "print(kilometros)\n",
    "\n",
    "millas = kilometros * 0.621\n",
    "print(kilometros) \n",
    "\n"
   ]
  },
  {
   "cell_type": "markdown",
   "metadata": {},
   "source": [
    " ## Ejercicio 2: convierte cadenas en números y usa valores absolutos"
   ]
  },
  {
   "cell_type": "markdown",
   "metadata": {},
   "source": [
    "input : para leer los valores\n"
   ]
  },
  {
   "cell_type": "markdown",
   "metadata": {},
   "source": [
    "int: para convertir a entero "
   ]
  },
  {
   "cell_type": "markdown",
   "metadata": {},
   "source": [
    "abs: para convertir el resultado en su valor absoluto."
   ]
  },
  {
   "cell_type": "code",
   "execution_count": 4,
   "metadata": {},
   "outputs": [
    {
     "name": "stdout",
     "output_type": "stream",
     "text": [
      "57900000\n"
     ]
    }
   ],
   "source": [
    "planeta1 = input('Ingerse el valor del planeta 1')\n",
    "planeta2 = input('Ingrese el valor  del planeta 2')\n",
    "\n",
    "planeta1 = int(planeta1) #de esta manera se hace la conversion de tipos de cadenas a enteros\n",
    "planeta2 = int(planeta2)\n",
    "#print(planeta1)\n",
    "\n",
    "respuesta_kilometros = planeta2 - planeta1\n",
    "print(respuesta_kilometros)\n",
    "\n",
    "millas2 =respuesta_kilometros * 0.621\n",
    "print(abs(millas2))\n"
   ]
  },
  {
   "cell_type": "markdown",
   "metadata": {},
   "source": [
    "NOTA: para este ejercicio se abre una caja de texto para que se coloquen los valores para que el usaurio interactue con e codigo\n"
   ]
  }
 ],
 "metadata": {
  "interpreter": {
   "hash": "32662e2c833eb25046ca7c8c1e58b39e75819365e9a14a88de9cc990b17dacca"
  },
  "kernelspec": {
   "display_name": "Python 3.10.2 64-bit",
   "language": "python",
   "name": "python3"
  },
  "language_info": {
   "codemirror_mode": {
    "name": "ipython",
    "version": 3
   },
   "file_extension": ".py",
   "mimetype": "text/x-python",
   "name": "python",
   "nbconvert_exporter": "python",
   "pygments_lexer": "ipython3",
   "version": "3.10.2"
  },
  "orig_nbformat": 4
 },
 "nbformat": 4,
 "nbformat_minor": 2
}

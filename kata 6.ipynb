{
 "cells": [
  {
   "cell_type": "markdown",
   "metadata": {},
   "source": [
    "## Ejercicio1: Crear y usar listas de Python"
   ]
  },
  {
   "cell_type": "markdown",
   "metadata": {},
   "source": [
    "len es una clase que se usa para conocer la longitud de los datos que hay en una cadena."
   ]
  },
  {
   "cell_type": "code",
   "execution_count": 6,
   "metadata": {},
   "outputs": [
    {
     "name": "stdout",
     "output_type": "stream",
     "text": [
      "En el sistema solar hay :  7 planetas, que son  ['Mercurio', 'Venus', 'Tierra', 'Marte', 'Jupiter', 'Saturno', 'Urano']\n",
      "Pluton Es el ultimo planeta\n"
     ]
    }
   ],
   "source": [
    "planets = ['Mercurio', 'Venus', 'Tierra', 'Marte', 'Jupiter', 'Saturno', 'Urano']\n",
    "print('En el sistema solar hay : ' , len(planets),\"planetas, que son \", planets)\n",
    "\n",
    "# que el usaurio agregue otro planeta \n",
    "planets.append('Pluton')\n",
    "\n",
    "print(planets[-1], 'Es el ultimo planeta')"
   ]
  },
  {
   "cell_type": "markdown",
   "metadata": {},
   "source": [
    "Ejercicio 2: Trabajando con datos de una lista"
   ]
  },
  {
   "cell_type": "markdown",
   "metadata": {},
   "source": [
    "El index()método devuelve el índice del elemento especificado en la lista."
   ]
  },
  {
   "cell_type": "code",
   "execution_count": 11,
   "metadata": {},
   "outputs": [
    {
     "ename": "ValueError",
     "evalue": "'Pluton' is not in list",
     "output_type": "error",
     "traceback": [
      "\u001b[1;31m---------------------------------------------------------------------------\u001b[0m",
      "\u001b[1;31mValueError\u001b[0m                                Traceback (most recent call last)",
      "\u001b[1;32mc:\\Users\\Magui\\OneDrive\\Escritorio\\ejercicios\\kata 6.ipynb Cell 6'\u001b[0m in \u001b[0;36m<module>\u001b[1;34m\u001b[0m\n\u001b[0;32m      <a href='vscode-notebook-cell:/c%3A/Users/Magui/OneDrive/Escritorio/ejercicios/kata%206.ipynb#ch0000006?line=0'>1</a>\u001b[0m planets \u001b[39m=\u001b[39m [\u001b[39m'\u001b[39m\u001b[39mMercurio\u001b[39m\u001b[39m'\u001b[39m, \u001b[39m'\u001b[39m\u001b[39mVenus\u001b[39m\u001b[39m'\u001b[39m, \u001b[39m'\u001b[39m\u001b[39mTierra\u001b[39m\u001b[39m'\u001b[39m, \u001b[39m'\u001b[39m\u001b[39mMarte\u001b[39m\u001b[39m'\u001b[39m, \u001b[39m'\u001b[39m\u001b[39mJupiter\u001b[39m\u001b[39m'\u001b[39m, \u001b[39m'\u001b[39m\u001b[39mSaturno\u001b[39m\u001b[39m'\u001b[39m, \u001b[39m'\u001b[39m\u001b[39mUrano\u001b[39m\u001b[39m'\u001b[39m, \u001b[39m'\u001b[39m\u001b[39mNeptuno\u001b[39m\u001b[39m'\u001b[39m]\n\u001b[0;32m      <a href='vscode-notebook-cell:/c%3A/Users/Magui/OneDrive/Escritorio/ejercicios/kata%206.ipynb#ch0000006?line=1'>2</a>\u001b[0m \u001b[39m#ingresar = input(\"Ingrese su planeta por favor (Favor de colocar el nombre con mayuscula la primera letra): \")\u001b[39;00m\n\u001b[0;32m      <a href='vscode-notebook-cell:/c%3A/Users/Magui/OneDrive/Escritorio/ejercicios/kata%206.ipynb#ch0000006?line=2'>3</a>\u001b[0m \n\u001b[0;32m      <a href='vscode-notebook-cell:/c%3A/Users/Magui/OneDrive/Escritorio/ejercicios/kata%206.ipynb#ch0000006?line=3'>4</a>\u001b[0m \u001b[39m#print(ingresar)\u001b[39;00m\n\u001b[1;32m----> <a href='vscode-notebook-cell:/c%3A/Users/Magui/OneDrive/Escritorio/ejercicios/kata%206.ipynb#ch0000006?line=4'>5</a>\u001b[0m lista_planetas \u001b[39m=\u001b[39m planets\u001b[39m.\u001b[39;49mindex(ingresar)\n",
      "\u001b[1;31mValueError\u001b[0m: 'Pluton' is not in list"
     ]
    }
   ],
   "source": [
    "planets = ['Mercurio', 'Venus', 'Tierra', 'Marte', 'Jupiter', 'Saturno', 'Urano', 'Neptuno']\n",
    "ingresar = input(\"Ingrese su planeta por favor (Favor de colocar el nombre con mayuscula la primera letra): \")\n",
    "\n",
    "print(ingresar)\n",
    "lista_planetas = planets.index(ingresar)\n",
    "\n",
    "#planetas mas cerca del sol\n",
    "planets = ['Mercurio', 'Venus', 'Tierra', 'Marte', 'Jupiter', 'Saturno', 'Urano', 'Neptuno', 'Pluton']\n",
    "print('Los planetas mas cerca del sol son  ' + ingresar)\n",
    "print(planets[0:lista_planetas])\n",
    "\n",
    "# Muestra los planetas más lejanos al sol\n",
    "\n",
    "print('Los planetas mas alejados del sol son  ' + ingresar)\n",
    "print(planets[lista_planetas + 1:])\n"
   ]
  }
 ],
 "metadata": {
  "interpreter": {
   "hash": "32662e2c833eb25046ca7c8c1e58b39e75819365e9a14a88de9cc990b17dacca"
  },
  "kernelspec": {
   "display_name": "Python 3.10.2 64-bit",
   "language": "python",
   "name": "python3"
  },
  "language_info": {
   "codemirror_mode": {
    "name": "ipython",
    "version": 3
   },
   "file_extension": ".py",
   "mimetype": "text/x-python",
   "name": "python",
   "nbconvert_exporter": "python",
   "pygments_lexer": "ipython3",
   "version": "3.10.2"
  },
  "orig_nbformat": 4
 },
 "nbformat": 4,
 "nbformat_minor": 2
}

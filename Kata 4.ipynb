{
 "cells": [
  {
   "cell_type": "markdown",
   "metadata": {},
   "source": [
    "## Cadenas de Python Ejercicio 1"
   ]
  },
  {
   "cell_type": "code",
   "execution_count": null,
   "metadata": {},
   "outputs": [],
   "source": [
    "text = \"\"\"Interesting facts about the Moon. The Moon is Earth's only satellite. There are several interesting facts about the Moon and how it affects life here on Earth. \n",
    "On average, the Moon moves 4cm away from the Earth every year. This yearly drift is not significant enough to cause immediate effects on Earth. The highest daylight temperature of the Moon is 127 C.\"\"\"\n",
    "#text.split()\n",
    "# dividimos el texto con split\n",
    "res = text.split('.')\n",
    "res\n",
    "\n",
    "# Buscar palabras \"average, temperature y distance\"\n",
    "search1 = [\"average\", \"Temperature\", \"distance\"] # aquí solo se imprime las palabras buscadas, se guardan en una cadena string declarandola con []\n",
    "search1\n",
    "\n",
    "# Ciclo for para recorrer la cadena\n",
    "for sentence in res: ##sentence es una clase \n",
    "    for key_word in search1:\n",
    "        if key_word in sentence:\n",
    "            print(sentence)\n",
    "            break    \n",
    "### Ciclo para cambiar C a Celsius\n",
    "for sentence in res: ##sentence es una clase \n",
    "    for key_word in key_word: # se hace un recorrido dentro de una nuebva lista \n",
    "        if key_word in sentence: \n",
    "            print(sentence.replace('C', 'Celsius'))\n",
    "            break   \n",
    "#s = \"Naze\"\n",
    "#new_s = s.replace('z','m')\n",
    "#print(new_s)"
   ]
  },
  {
   "cell_type": "markdown",
   "metadata": {},
   "source": [
    "## Ejercicio 2"
   ]
  },
  {
   "cell_type": "markdown",
   "metadata": {},
   "source": [
    "Gravity Facts about Ganymede\n",
    "-------------------------------------------------------------------------------\n",
    "Planet Name: Mars\n",
    "\n",
    "Gravity on Ganymede: 1.4300000000000002 m/s2"
   ]
  },
  {
   "cell_type": "code",
   "execution_count": 76,
   "metadata": {},
   "outputs": [
    {
     "name": "stdout",
     "output_type": "stream",
     "text": [
      "----------\n",
      "Nombre del planeta: Marte  \n",
      "Gravedad en Ganímedes: 1.4300000000000002 m/s2    \n",
      "\n",
      "----------\n",
      "Nombre del planeta: Marte  \n",
      "Gravedad en Ganímedes: 1.4300000000000002 m/s2    \n",
      "\n",
      "\n",
      "Datos de Gravedad sobre: Ganímedes1\n",
      "-------------------------------------------------------------------------------\n",
      "Nombre del planeta: Marte \n",
      "Gravedad en Ganímedes1: 0.00143 m/s2\n",
      "\n",
      "\n",
      "Datos de Gravedad sobre: Ganímedes1\n",
      "-------------------------------------------------------------------------------\n",
      "Nombre del planeta: Marte \n",
      "Gravedad en Ganímedes1: 1.4300000000000002 m/s2\n",
      "\n"
     ]
    }
   ],
   "source": [
    "#primer codigo\n",
    "planeta = 'Marte '\n",
    "gravedad  = 0.00143\n",
    "nombre = 'Ganímedes'\n",
    "\n",
    "#segundo codigo, titulos\n",
    "titl = f'Datos de gravedad sobre {nombre}'\n",
    "print(titl)\n",
    "#print (titl.title()) esta es otra dorma de crear un titulo en python\n",
    "\n",
    "#tercer codigo conversion\n",
    "# f es la cadena del codigo anterior que almacena los datos generales del planeta marte, incluye sy nombre, el creaor o invesigadpr y la gravedad \n",
    "# el *10 es solo para darle formato de plantilla, en este caso son los ----------, el numero puede variar\n",
    "hechos = f\"\"\"{'-'*10}\n",
    "Nombre del planeta: {planeta} \n",
    "Gravedad en {nombre}: {gravedad * 1000} m/s2    \n",
    "\"\"\"\n",
    "print(hechos)\n",
    "\n",
    "#juntamos el título y los hechos del codigo\n",
    "# en este codigo solo replicamos lo apendido usando la clase title, solo se une la variable tilt uq eusamos para imprimir el titulo y se coloca la variable hechos que es la variable que almacena la informacion obtenida con formato\n",
    "resul = f\"\"\"{titl.title()} {hechos} \n",
    "\"\"\" \n",
    "print(hechos)\n",
    "\n",
    "planeta = 'Marte '\n",
    "gravedad  = 0.00143\n",
    "nombre = 'Ganímedes1'\n",
    "\n",
    "print(hechos)\n",
    "\n",
    "new_template = \"\"\"\n",
    "Datos de Gravedad sobre: {nombre}\n",
    "-------------------------------------------------------------------------------\n",
    "Nombre del planeta: {planeta}\n",
    "Gravedad en {nombre}: {gravedad} m/s2\n",
    "\"\"\"\n",
    "print(new_template.format(nombre=nombre, planeta=planeta, gravedad=gravedad))\n",
    "# el nuevo print solo almacena la iformacion del codigo anterior con el nombre de sus variables\n",
    "\n",
    "print(new_template.format(nombre=nombre, planeta=planeta, gravedad=gravedad*1000))\n",
    "\n",
    "\n"
   ]
  },
  {
   "cell_type": "markdown",
   "metadata": {},
   "source": [
    "## NOTA:\"f\" es una nueva notación para cadenas llamada cadenas , que simplifica la inserción de variables y expresiones en las cadenas. Una cadena \"f\" contiene variables y expresiones entre llaves ({}) que se sustituyen directamente por su valor"
   ]
  }
 ],
 "metadata": {
  "interpreter": {
   "hash": "32662e2c833eb25046ca7c8c1e58b39e75819365e9a14a88de9cc990b17dacca"
  },
  "kernelspec": {
   "display_name": "Python 3.10.2 64-bit",
   "language": "python",
   "name": "python3"
  },
  "language_info": {
   "codemirror_mode": {
    "name": "ipython",
    "version": 3
   },
   "file_extension": ".py",
   "mimetype": "text/x-python",
   "name": "python",
   "nbconvert_exporter": "python",
   "pygments_lexer": "ipython3",
   "version": "3.10.2"
  },
  "orig_nbformat": 4
 },
 "nbformat": 4,
 "nbformat_minor": 2
}
